{
 "cells": [
  {
   "cell_type": "markdown",
   "id": "c603b78d-588b-4a9f-a958-005b888c9409",
   "metadata": {},
   "source": [
    "# Data Science Tools and Ecosystem"
   ]
  },
  {
   "cell_type": "markdown",
   "id": "6ac755c5-743e-4e44-b69d-72b2215defd7",
   "metadata": {},
   "source": [
    " In this notebook, Data Science Tools and Ecosystem are summarized."
   ]
  },
  {
   "cell_type": "markdown",
   "id": "7b796d77-d832-4d9a-a749-6ae200266639",
   "metadata": {},
   "source": [
    "Some of the popular languages that Data Scientists use are:\n",
    "1. R\n",
    "2. Python\n",
    "3. Julia\n",
    "\n",
    "Some of the commonly used libraries used by Data Scientists include:\n",
    "1. ggplot\n",
    "2. Pandas\n",
    "3. Numpy "
   ]
  },
  {
   "cell_type": "markdown",
   "id": "de69e0a6-0eac-4a4a-8693-3bd28cc81bd5",
   "metadata": {},
   "source": [
    "|Data Science Tools|\n",
    "|------------------|\n",
    "|Apache Spark      |\n",
    "|Git               |\n",
    "|Rstudio          |"
   ]
  },
  {
   "cell_type": "markdown",
   "id": "90d19ac9-b442-496b-a223-a4c05dfb1d1c",
   "metadata": {},
   "source": [
    "### Below are a few examples of evaluating arithmetic expressions in Python"
   ]
  },
  {
   "cell_type": "code",
   "execution_count": 9,
   "id": "b81a2dbd-2922-4fc8-aa06-5eb1e6f224e9",
   "metadata": {},
   "outputs": [
    {
     "data": {
      "text/plain": [
       "17"
      ]
     },
     "execution_count": 9,
     "metadata": {},
     "output_type": "execute_result"
    }
   ],
   "source": [
    "#This a simple arithmetic expression to mutiply then add integers\n",
    "(3*4)+5"
   ]
  },
  {
   "cell_type": "code",
   "execution_count": 10,
   "id": "dd47fdee-64a1-4767-9ead-cb60459a15ec",
   "metadata": {},
   "outputs": [
    {
     "data": {
      "text/plain": [
       "3.3333333333333335"
      ]
     },
     "execution_count": 10,
     "metadata": {},
     "output_type": "execute_result"
    }
   ],
   "source": [
    "#This will convert 200 minutes to hours by diving by 60\n",
    "200/60"
   ]
  },
  {
   "cell_type": "markdown",
   "id": "822fbe6e-381b-4dd9-ac69-28d2cb5c8e1b",
   "metadata": {},
   "source": [
    "**Objectives:**\n",
    "- List popular languages for Data Science\n",
    "- List of popular libraries, API\n",
    "- List of popular IDEs like Rstudio Jupyter VSCode\n",
    "- Discuss about what is version control"
   ]
  },
  {
   "cell_type": "markdown",
   "id": "ca45209f-8545-4791-a19d-87fc52e5f370",
   "metadata": {
    "jp-MarkdownHeadingCollapsed": true
   },
   "source": [
    "## Author\n",
    "Parsa RanaeiMehr\n"
   ]
  }
 ],
 "metadata": {
  "kernelspec": {
   "display_name": "Python 3 (ipykernel)",
   "language": "python",
   "name": "python3"
  },
  "language_info": {
   "codemirror_mode": {
    "name": "ipython",
    "version": 3
   },
   "file_extension": ".py",
   "mimetype": "text/x-python",
   "name": "python",
   "nbconvert_exporter": "python",
   "pygments_lexer": "ipython3",
   "version": "3.11.6"
  }
 },
 "nbformat": 4,
 "nbformat_minor": 5
}
